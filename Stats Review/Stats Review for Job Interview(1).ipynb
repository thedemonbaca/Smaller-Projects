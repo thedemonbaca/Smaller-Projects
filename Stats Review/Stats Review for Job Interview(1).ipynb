{
 "metadata": {
  "name": "Stats Review for Job Interview"
 },
 "nbformat": 3,
 "nbformat_minor": 0,
 "worksheets": [
  {
   "cells": [
    {
     "cell_type": "markdown",
     "metadata": {},
     "source": "<h1> Overview </h1>"
    },
    {
     "cell_type": "markdown",
     "metadata": {},
     "source": "<p> We're interested in panel data. Panel data contains multiple phenomena over multiple time periods for the same firms or individuals.For this example, we're using \"GSS 2010 Sample Panel Wave 2, Release 1\" which was just released August 27, 2013; available <a href=\"http://www3.norc.org/GSS+Website/Download/SPSS+Format/\" title=\"GSS Panel 2010-Sample Wave 2 (Release 1, Aug. 2013)\">here</a>.</p> "
    },
    {
     "cell_type": "markdown",
     "metadata": {},
     "source": "<p> These sections comprise the statistical review for a job interview </p>\n<ol>\n    <li> File Input </li>\n    <li> Descriptive Statistics </li>\n    <li> Inferential Statistics </li>\n    <li> File Output </li>\n</ol>"
    },
    {
     "cell_type": "markdown",
     "metadata": {},
     "source": "<h2> File Input </h2>"
    },
    {
     "cell_type": "markdown",
     "metadata": {},
     "source": "<p>The first step is to import the data structure into Python even though it's an SPSS file. I could not find a module that does this in Python so I hopped over to R and to used the foreign library</p> "
    },
    {
     "cell_type": "raw",
     "metadata": {},
     "source": "> # Here is the R code used to convert an SPSS file to CSV\n> library(foreign)\n> data <- read.spss(\"/home/ty/code/small_projects/Stats Review/GSS_pane_2010_spss/GSS_pane1210w12_R1.sav\")\n> warnings()\n> write.csv(data, \"panel_data.csv\", row.names=FALSE)"
    },
    {
     "cell_type": "markdown",
     "metadata": {},
     "source": "<p> Now we are able to import the data structure into Python as a data frame using the Pandas Module </p>"
    },
    {
     "cell_type": "code",
     "collapsed": false,
     "input": "import pandas as pd",
     "language": "python",
     "metadata": {},
     "outputs": [],
     "prompt_number": 2
    },
    {
     "cell_type": "code",
     "collapsed": false,
     "input": "data = pd.read_csv('panel_data.csv', index_col=0)",
     "language": "python",
     "metadata": {},
     "outputs": [],
     "prompt_number": 3
    },
    {
     "cell_type": "markdown",
     "metadata": {},
     "source": "<h3> Univariate Statistics </h3>"
    },
    {
     "cell_type": "code",
     "collapsed": false,
     "input": "",
     "language": "python",
     "metadata": {},
     "outputs": []
    }
   ],
   "metadata": {}
  }
 ]
}