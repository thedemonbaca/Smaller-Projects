{
 "metadata": {
  "name": "Stats Review for Job Interview"
 },
 "nbformat": 3,
 "nbformat_minor": 0,
 "worksheets": [
  {
   "cells": [
    {
     "cell_type": "markdown",
     "metadata": {},
     "source": [
      "<h1> Overview </h1>"
     ]
    },
    {
     "cell_type": "markdown",
     "metadata": {},
     "source": [
      "<p> We're interested in panel data. Panel data contains multiple phenomena over multiple time periods for the same firms or individuals.For this example, we're using \"GSS 2010 Sample Panel Wave 2, Release 1\" which was just released August 27, 2013; available <a href=\"http://www3.norc.org/GSS+Website/Download/SPSS+Format/\" title=\"GSS Panel 2010-Sample Wave 2 (Release 1, Aug. 2013)\">here</a>.</p> "
     ]
    },
    {
     "cell_type": "markdown",
     "metadata": {},
     "source": [
      "<p> These sections comprise the statistical review for a job interview </p>\n",
      "<ol>\n",
      "    <li> File Input </li>\n",
      "    <li> Descriptive Statistics </li>\n",
      "    <li> Inferential Statistics </li>\n",
      "    <li> File Output </li>\n",
      "</ol>"
     ]
    },
    {
     "cell_type": "markdown",
     "metadata": {},
     "source": [
      "<h2> File Input </h2>"
     ]
    },
    {
     "cell_type": "markdown",
     "metadata": {},
     "source": [
      "<p>The first step is to import the data structure into Python even though it's an SPSS file. I could not find a module that does this in Python so I hopped over to R and used the foreign library</p> "
     ]
    },
    {
     "cell_type": "raw",
     "metadata": {},
     "source": [
      "> # Here is the R code used to convert an SPSS file to CSV\n",
      "> library(foreign)\n",
      "> data <- read.spss(\"/home/ty/code/small_projects/Stats Review/GSS_pane_2010_spss/GSS_pane1210w12_R1.sav\")\n",
      "> warnings()\n",
      "> write.csv(data, \"panel_data.csv\", row.names=FALSE)"
     ]
    },
    {
     "cell_type": "markdown",
     "metadata": {},
     "source": [
      "<p> Now we are able to import the data structure into Python as a data frame using the Pandas Module </p>"
     ]
    },
    {
     "cell_type": "code",
     "collapsed": false,
     "input": [
      "import pandas as pd"
     ],
     "language": "python",
     "metadata": {},
     "outputs": [],
     "prompt_number": 2
    },
    {
     "cell_type": "code",
     "collapsed": false,
     "input": [
      "data = pd.read_csv('panel_data.csv', index_col=0)"
     ],
     "language": "python",
     "metadata": {},
     "outputs": [],
     "prompt_number": 3
    },
    {
     "cell_type": "markdown",
     "metadata": {},
     "source": [
      "<h2> Descriptive Statistics </h2>"
     ]
    },
    {
     "cell_type": "markdown",
     "metadata": {},
     "source": [
      "<p>First let's examine Univariate Statistics. We're going to first take the mean of all variables in the dataset. </p>"
     ]
    },
    {
     "cell_type": "code",
     "collapsed": false,
     "input": [
      "data.mean()"
     ],
     "language": "python",
     "metadata": {},
     "outputs": [
      {
       "output_type": "pyout",
       "prompt_number": 14,
       "text": [
        "formwt                NaN\n",
        "wtpan12          0.517613\n",
        "wtpannr12        0.517613\n",
        "year_1        2010.000000\n",
        "year_2        1526.477006\n",
        "adults_1         1.872309\n",
        "adults_2         1.365460\n",
        "age_1           48.042074\n",
        "age_2           62.347847\n",
        "agekdbrn_1      17.780333\n",
        "agekdbrn_2      13.924168\n",
        "babies_1         0.219178\n",
        "babies_2         0.099315\n",
        "bizbstgw_1       0.938356\n",
        "BIZBSTNK_1       0.892368\n",
        "...\n",
        "wlthblks_1    3.411937\n",
        "wlthblks_2    2.569472\n",
        "wlthhsps_2    2.615949\n",
        "wlthwhts_1    2.553816\n",
        "wlthwhts_2    1.876712\n",
        "wordsum_1     5.875734\n",
        "wordsum_2     3.417319\n",
        "workblks_1    2.985323\n",
        "workblks_2    2.256360\n",
        "workhsps_2    1.854207\n",
        "workwhts_1    2.630626\n",
        "workwhts_2    1.909491\n",
        "wwwhr_1       7.464286\n",
        "wwwmin_1      0.459393\n",
        "yearsjob_1    5.579990\n",
        "Length: 243, dtype: float64"
       ]
      }
     ],
     "prompt_number": 14
    },
    {
     "cell_type": "markdown",
     "metadata": {},
     "source": [
      "<p> Given that we know how to examine univariate descriptive statistics for all variables at once, let's focus in on two variables (age_1, age_2) and examine several of their characteristics. </p>"
     ]
    },
    {
     "cell_type": "code",
     "collapsed": false,
     "input": [
      "# We need to make lists of the items which we want in our table\n",
      "\n",
      "# Labels\n",
      "labels = [\"\\n\",\"Mean\", \"Median\", \"Min\", \"Max\", \"Skew\", \"Kurt\", \"Count\"]\n",
      "\n",
      "# Age at which respondent took first survey\n",
      "age_t1 = [\"age_t1\", str(data['age_1'].mean())[0:4], data['age_1'].median(), data['age_1'].min(), \\\n",
      "          data['age_1'].max(), str(data['age_1'].skew())[0:4], str(data['age_1'].kurt())[0:4], data['age_1'].count()]\n",
      "\n",
      "# Age at which respondent took second survey\n",
      "age_t2 = [\"age_t2\", str(data['age_2'].mean())[0:4], data['age_2'].median(), data['age_2'].min(), \\\n",
      "           data['age_2'].max(), str(data['age_2'].skew())[0:4], str(data['age_2'].kurt())[0:4], data['age_2'].count()]"
     ],
     "language": "python",
     "metadata": {},
     "outputs": [],
     "prompt_number": 55
    },
    {
     "cell_type": "code",
     "collapsed": false,
     "input": [
      "# Now let's make a hacked together but relatively nice looking table\n",
      "for characteristic in range(len(labels)):\n",
      "    print labels[characteristic], \"\\t\", age_t1[characteristic], \"\\t\", age_t2[characteristic]"
     ],
     "language": "python",
     "metadata": {},
     "outputs": [
      {
       "output_type": "stream",
       "stream": "stdout",
       "text": [
        "\n",
        "\tage_t1 \tage_t2\n",
        "Mean \t48.0 \t62.3\n",
        "Median \t47.0 \t58.0\n",
        "Min \t18 \t20\n",
        "Max \t99 \t99\n",
        "Skew \t0.30 \t0.22\n",
        "Kurt \t-0.7 \t-1.2\n",
        "Count \t2044 \t2044\n"
       ]
      }
     ],
     "prompt_number": 54
    },
    {
     "cell_type": "markdown",
     "metadata": {},
     "source": [
      "<p> Let's interpret what we the difference between age_1 and age_2. From the release notes we know that which came with the dataset we know the following:<blockquote> \"GSS panel dataset has two waves of interviews: originally sampled and interviewed in 2010 and for the second wave in 2012. Among the 2,044 cases newly interviewed in 2010, we ended up re-interviewing 1,551 cases in 2012...\"</blockquote> The length of time between surveys, two years, also provides us valuable substantive information about our data</p>\n",
      "<p> For example, the difference in mean and median ages at t1 and t2 are about 15 years while the minimum and maximum ages are relatively constant. At age_t1, the distribution is skewed to the right more than the distribution for age_t2"
     ]
    },
    {
     "cell_type": "code",
     "collapsed": false,
     "input": [],
     "language": "python",
     "metadata": {},
     "outputs": []
    }
   ],
   "metadata": {}
  }
 ]
}