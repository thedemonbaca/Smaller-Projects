{
 "metadata": {
  "name": "Stats Review for Job Interview"
 },
 "nbformat": 3,
 "nbformat_minor": 0,
 "worksheets": [
  {
   "cells": [
    {
     "cell_type": "markdown",
     "metadata": {},
     "source": "<h1> Overview </h1>"
    },
    {
     "cell_type": "markdown",
     "metadata": {},
     "source": "<p> We're interested in panel data. Panel data contains multiple phenomena over multiple time periods for the same firms or individuals.For this example, we're using \"GSS 2010 Sample Panel Wave 2, Release 1\" which was just released August 27, 2013; available <a href=\"http://www3.norc.org/GSS+Website/Download/SPSS+Format/\" title=\"GSS Panel 2010-Sample Wave 2 (Release 1, Aug. 2013)\">here</a>.</p> "
    },
    {
     "cell_type": "markdown",
     "metadata": {},
     "source": "<p> These sections comprise the statistical review for a job interview </p>\n<ol>\n    <li> File Input </li>\n    <li> Descriptive Statistics </li>\n    <li> Inferential Statistics </li>\n    <li> File Output </li>\n</ol>"
    },
    {
     "cell_type": "markdown",
     "metadata": {},
     "source": "<h2> File Input </h2>"
    },
    {
     "cell_type": "markdown",
     "metadata": {},
     "source": "<p>The first step is to import the data structure into Python even though it's an SPSS file. I could not find a module that does this in Python so I hopped over to R and used the foreign library</p> "
    },
    {
     "cell_type": "raw",
     "metadata": {},
     "source": "> # Here is the R code used to convert an SPSS file to CSV\n> library(foreign)\n> data <- read.spss(\"/home/ty/code/small_projects/Stats Review/GSS_pane_2010_spss/GSS_pane1210w12_R1.sav\")\n> warnings()\n> write.csv(data, \"panel_data.csv\", row.names=FALSE)"
    },
    {
     "cell_type": "markdown",
     "metadata": {},
     "source": "<p> Now we are able to import the data structure into Python as a data frame using the Pandas Module </p>"
    },
    {
     "cell_type": "code",
     "collapsed": false,
     "input": "import pandas as pd",
     "language": "python",
     "metadata": {},
     "outputs": [],
     "prompt_number": 42
    },
    {
     "cell_type": "code",
     "collapsed": false,
     "input": "data = pd.read_csv('panel_data.csv', index_col=0)",
     "language": "python",
     "metadata": {},
     "outputs": [],
     "prompt_number": 43
    },
    {
     "cell_type": "markdown",
     "metadata": {},
     "source": "<h2> Descriptive Statistics </h2>"
    },
    {
     "cell_type": "markdown",
     "metadata": {},
     "source": "<h3> Univariate Descriptive Statistics </h3>"
    },
    {
     "cell_type": "markdown",
     "metadata": {},
     "source": "<p>First let's examine Univariate Statistics. We're going to first take the mean of all variables in the dataset. </p>"
    },
    {
     "cell_type": "code",
     "collapsed": false,
     "input": "data.mean()",
     "language": "python",
     "metadata": {},
     "outputs": [
      {
       "output_type": "pyout",
       "prompt_number": 44,
       "text": "formwt                NaN\nwtpan12          0.517613\nwtpannr12        0.517613\nyear_1        2010.000000\nyear_2        1526.477006\nadults_1         1.872309\nadults_2         1.365460\nage_1           48.042074\nage_2           62.347847\nagekdbrn_1      17.780333\nagekdbrn_2      13.924168\nbabies_1         0.219178\nbabies_2         0.099315\nbizbstgw_1       0.938356\nBIZBSTNK_1       0.892368\n...\nwlthblks_1    3.411937\nwlthblks_2    2.569472\nwlthhsps_2    2.615949\nwlthwhts_1    2.553816\nwlthwhts_2    1.876712\nwordsum_1     5.875734\nwordsum_2     3.417319\nworkblks_1    2.985323\nworkblks_2    2.256360\nworkhsps_2    1.854207\nworkwhts_1    2.630626\nworkwhts_2    1.909491\nwwwhr_1       7.464286\nwwwmin_1      0.459393\nyearsjob_1    5.579990\nLength: 243, dtype: float64"
      }
     ],
     "prompt_number": 44
    },
    {
     "cell_type": "markdown",
     "metadata": {},
     "source": "<p> Given that we know how to examine univariate descriptive statistics for all variables at once, let's focus in on two variables (age_1, age_2) and examine several of their characteristics. </p>"
    },
    {
     "cell_type": "code",
     "collapsed": false,
     "input": "# We need to make lists of the items which we want in our table\n\n# Labels\nlabels = [\"\\n\",\"Mean\", \"Median\",\"Std\", \"Var\", \"Min\", \"Max\", \"Skew\", \"Kurt\", \"Count\"]\n\n# Age at which respondent took first survey\nage_t1 = [\"age_t1\", str(data['age_1'].mean())[0:5], data['age_1'].median(), str(data['age_1'].std())[0:5], \n           str(data['age_1'].var())[0:5], data['age_1'].min(), data['age_1'].max(), str(data['age_1'].skew())[0:5], \n           str(data['age_1'].kurt())[0:5], data['age_1'].count()]\n\n# Age at which respondent took second survey\nage_t2 = [\"age_t2\", str(data['age_2'].mean())[0:5], data['age_2'].median(), str(data['age_2'].std())[0:5], \n           str(data['age_2'].var())[0:5], data['age_2'].min(), data['age_2'].max(), str(data['age_2'].skew())[0:5], \n           str(data['age_2'].kurt())[0:5], data['age_2'].count()]",
     "language": "python",
     "metadata": {},
     "outputs": [],
     "prompt_number": 45
    },
    {
     "cell_type": "code",
     "collapsed": false,
     "input": "# Now let's make a hacked together but relatively nice looking table\nfor characteristic in range(len(labels)):\n    print labels[characteristic], \"\\t\", age_t1[characteristic], \"\\t\", age_t2[characteristic]",
     "language": "python",
     "metadata": {},
     "outputs": [
      {
       "output_type": "stream",
       "stream": "stdout",
       "text": "\n\tage_t1 \tage_t2\nMean \t48.04 \t62.34\nMedian \t47.0 \t58.0\nStd \t17.77 \t25.82\nVar \t315.8 \t666.9\nMin \t18 \t20\nMax \t99 \t99\nSkew \t0.309 \t0.223\nKurt \t-0.72 \t-1.27\nCount \t2044 \t2044\n"
      }
     ],
     "prompt_number": 46
    },
    {
     "cell_type": "markdown",
     "metadata": {},
     "source": "<p> Let's interpret the difference between age_1 and age_2. From the release notes that came with the dataset we know the following:<blockquote> \"GSS panel dataset has two waves of interviews: originally sampled and interviewed in 2010 and for the second wave in 2012. Among the 2,044 cases newly interviewed in 2010, we ended up re-interviewing 1,551 cases in 2012...\"</blockquote> The length of time between surveys, two years, also provides us valuable substantive information about our data</p>\n<p> For example, the difference in mean and median ages at t1 and t2 are about 15 years while the minimum and maximum ages are relatively constant. At age_t1, the distribution is skewed to the right less than the distribution for age_t2. The Kurtosis indicates a flatter distribution which is supported by the high variance statistics. </p>\n\n<p> Let's take a look that the distributions of age_t1 and age_t2 </p>"
    },
    {
     "cell_type": "code",
     "collapsed": false,
     "input": "import pylab\nimport numpy as np\nimport matplotlib.mlab as mlab\nimport matplotlib.pyplot as plt",
     "language": "python",
     "metadata": {},
     "outputs": [],
     "prompt_number": 47
    },
    {
     "cell_type": "code",
     "collapsed": false,
     "input": "# The following code creates a histogram to help us better understand \n# age_t1 & age_t2\n\n# Parameters used to plot the normal probability density function\n# age_t1 normpdf parameters\nmu1 = data['age_1'].mean() # mean of distribution\nsigma1 = data['age_1'].std() # standard deviation of distribution\n# age_t2 normpdf parameters\nmu2 = data['age_2'].mean() # mean of distribution\nsigma2 = data['age_2'].std() # standard deviation of distribution\n\n# Number of bins used in the histogram\nnum_bins = 20\n\n# the histogram of the data \nn1, bins1, patches1 = plt.hist(data['age_1'], num_bins, normed=1, \n                               facecolor='red', alpha=0.5, label='age_t1')\nn2, bins2, patches2 = plt.hist(data['age_2'], num_bins, normed=1, \n                               facecolor='blue', alpha=0.5, label='age_t2')\n\n# add a 'best fit' line for age_t1\ny1 = mlab.normpdf(bins1, mu1, sigma1)\nplt.plot(bins1, y1, 'r--')\n# add a 'best fit' line for age_t2\ny2 = mlab.normpdf(bins2, mu2, sigma2)\nplt.plot(bins2, y2, 'b--')\n\n# Add labels to the figure\nplt.xlabel('Age')\nplt.ylabel('Probability')\nplt.title(r'Figure 1: Histogram of age_t1, age_t2')\nplt.legend(loc='upper left')\n\n# Tweak spacing to prevent clipping of ylabel\nplt.subplots_adjust(left=0.15)\nplt.show()",
     "language": "python",
     "metadata": {},
     "outputs": [
      {
       "output_type": "display_data",
       "png": "[encoded data removed]"
      }
     ],
     "prompt_number": 50
    },
    {
     "cell_type": "markdown",
     "metadata": {},
     "source": "<p> Figure 1 supports our interpretation from the descriptive statistics that age_t2 has a distribution which is skewed more towards the right than age_t1. We can see that the mean for age_t2 is pulled to the right due to the relatively large number of respondents falling into the ages 95 to 100 bin.</p>\n<p> We would expect age_t2 to be skewed to the right by an age margin of about two years due to time elapsed since the respondent was last surveyed. However, this is not the case and we'll have to think about how to deal with this distribution. </p>"
    },
    {
     "cell_type": "markdown",
     "metadata": {},
     "source": "<h3> Bivariate Descriptive Statistics </h3>"
    },
    {
     "cell_type": "code",
     "collapsed": false,
     "input": "",
     "language": "python",
     "metadata": {},
     "outputs": []
    }
   ],
   "metadata": {}
  }
 ]
}